{
 "cells": [
  {
   "cell_type": "code",
   "execution_count": 36,
   "metadata": {},
   "outputs": [
    {
     "data": {
      "text/plain": [
       "4"
      ]
     },
     "execution_count": 36,
     "metadata": {},
     "output_type": "execute_result"
    }
   ],
   "source": [
    "import holidays\n",
    "import numpy as np\n",
    "import datetime\n",
    "\n",
    "start_year = 2000\n",
    "end_year = 2050\n",
    "all_holidays = {}\n",
    "for year in range(start_year, end_year + 1):\n",
    "    holidays_for_year = holidays.Indonesia(years=year)\n",
    "    all_holidays.update(holidays_for_year)\n",
    "\n",
    "start_date = datetime.date(year=2023, month=12, day=18)\n",
    "end_date = datetime.date(year=2023, month=12, day=24)\n",
    "\n",
    "all_holidays_arr = [np.datetime64(d) for d in list(all_holidays.keys())]\n",
    "\n",
    "np.busday_count(start_date, end_date, holidays=all_holidays_arr) - 1"
   ]
  },
  {
   "cell_type": "code",
   "execution_count": null,
   "metadata": {},
   "outputs": [],
   "source": []
  }
 ],
 "metadata": {
  "kernelspec": {
   "display_name": "streamlit",
   "language": "python",
   "name": "python3"
  },
  "language_info": {
   "codemirror_mode": {
    "name": "ipython",
    "version": 3
   },
   "file_extension": ".py",
   "mimetype": "text/x-python",
   "name": "python",
   "nbconvert_exporter": "python",
   "pygments_lexer": "ipython3",
   "version": "3.12.1"
  }
 },
 "nbformat": 4,
 "nbformat_minor": 2
}
